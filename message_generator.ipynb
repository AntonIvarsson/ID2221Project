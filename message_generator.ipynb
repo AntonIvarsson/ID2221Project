{
 "cells": [
  {
   "cell_type": "code",
   "execution_count": null,
   "metadata": {},
   "outputs": [],
   "source": [
    "\"\"\"\n",
    "Installera följande för att få o funka:\n",
    "pip install spylon-kernel\n",
    "python -m spylon_kernel install\n",
    "\n",
    "kan behöva ha spark och pyspark\n",
    "“””"
   ]
  },
  {
   "cell_type": "code",
   "execution_count": 4,
   "metadata": {},
   "outputs": [
    {
     "data": {
      "text/plain": [
       "Covid_prob: Double = 0.2\n",
       "x_mean: Double = 0.0\n",
       "x_var: Double = 1.0\n",
       "y_mean: Double = 0.0\n",
       "y_var: Double = 1.0\n"
      ]
     },
     "execution_count": 4,
     "metadata": {},
     "output_type": "execute_result"
    }
   ],
   "source": [
    "// Settings\n",
    "val Covid_prob = 0.2\n",
    "val x_mean = 0.0\n",
    "val x_var  = 1.0\n",
    "val y_mean = 0.0\n",
    "val y_var  = 1.0"
   ]
  },
  {
   "cell_type": "code",
   "execution_count": 3,
   "metadata": {},
   "outputs": [
    {
     "name": "stdout",
     "output_type": "stream",
     "text": [
      "List(SARS CoV-2, covid19, corona,, fever, dry cough, tiredness, pains, I HAVE CORONA, I HAVE COVID19, I am sick and am going to party and dance, sore throat, diarrhoea, conjunctivitis, headache, loss of taste or smell)"
     ]
    },
    {
     "data": {
      "text/plain": [
       "src: Iterator[String] = <iterator>\n",
       "covid_list: List[String] = List(SARS CoV-2, covid19, corona,, fever, dry cough, tiredness, pains, I HAVE CORONA, I HAVE COVID19, I am sick and am going to party and dance, sore throat, diarrhoea, conjunctivitis, headache, loss of taste or smell)\n"
      ]
     },
     "execution_count": 3,
     "metadata": {},
     "output_type": "execute_result"
    }
   ],
   "source": [
    "// load data set and covid19_list:\n",
    "// big data set is dataset.csv\"\n",
    "var src = scala.io.Source.fromFile(\"dataset_smol.csv\").getLines.map(_.split(\",\")(2))\n",
    "\n",
    "var covid_list = scala.io.Source.fromFile(\"covidlist.csv\").getLines.toList\n",
    "print(covid_list)"
   ]
  },
  {
   "cell_type": "code",
   "execution_count": 5,
   "metadata": {},
   "outputs": [
    {
     "name": "stdout",
     "output_type": "stream",
     "text": [
      "0.9471992366087483, 0.4829920399625027, content\n",
      "1.1348106516265777, -1.0596672211200393, \"\"\"We have a sitting Democrat US Senator on trial for corruption and you've barely heard a peep from the mainstream media.\"\" ~ @nedryun https://t.co/gh6g0D1oiC\"\n",
      "1.0770907011099484, -2.6546230194293505, Marshawn Lynch arrives to game in anti-Trump shirt. Judging by his sagging pants the shirt should say Lynch vs. belt https://t.co/mLH1i30LZZ\n",
      "-0.5831791296546601, -0.6467575494679451, \"Daughter of fallen Navy Sailor delivers powerful monologue on anthem protests\n",
      "0.08267792607107005, 0.4066569939194052, \"JUST IN: President Trump dedicates Presidents Cup golf tournament trophy to the people of Florida\n",
      "-1.527030753744837, -0.8742080852202734, \"19\n",
      "0.8695145247047827, -0.8465125437292297, \"Dan Bongino: \"\"Nobody trolls liberals better than Donald Trump.\"\" Exactly!  https://t.co/AigV93aC8J\"\n",
      "-0.24425307569025648, -1.7941067327628057, 🐝🐝🐝 https://t.co/MorL3AQW0z\n",
      "0.8322794602024671, -1.5298766690815622, @SenatorMenendez @CarmenYulinCruz Doesn't matter that CNN doesn't report on your cri corona, mes. This won't change the fact that you're going down.'\n",
      "-1.3018649532605586, -0.36546582782058523, \"As much as I hate promoting CNN article\n",
      "-0.49268416606882626, -1.8996542339198141, fter the 'genocide' remark from San Juan Mayor the narrative has c diarrhoea hanged though. @CNN fixes it's reporting constantly.\n",
      "-1.9272167685754857, 0.679455849359577, After the 'genocide' remark from San Juan Mayor the narrative has changed though. @CNN fixes its reporting constantly.\n",
      "-1.542841378553529, -0.5060168376126869, '@thehill Why won't she apologize to us for lying?'\n",
      "0.601901033003856, -0.055581502033991516, Sarah Sanders destroys NBC reporter: \"\"Trump ma sore throat de a joke\n",
      "-0.031469959323717225, -0.7609252260307021,  tiredness \"Hi @MichelleObama\n",
      "1.0721111918818118, 0.19912465872156773, \"Hi @MichelleObama\n",
      "0.8524690016936249, 1.0950597930463681, \"Wow! Even CNN is slamming the Obamas for silence on Weinstein: \"\"Where is Michelle Obama? Where is President Obama?\"\" https://t.co/UxIhO8GDOJ\"\n",
      "0.8549049576926651, -0.3269671324561948, \"First lady Melania Trump visits infant opioid treatment center in Huntington\n",
      "-0.23601380568128974, 0.3182810803958426, REAKING: The audio of sexua sore throat l predator Harvey Weinstein admitting to assaulting model Ambra Gutierrez has leaked.   I am truly disgusted. https://t.co/ka1nhd0ReR\n",
      "-0.4275285140635471, 0.049503836833135494, '@Breaking911 Build that wall!! 👍'\n",
      "-0.9965738818084661, 0.14376925226367676, \"\"\"It took Hillary abt 5 minutes to blame NRA for madman's rampage\n",
      "-0.17042657844281459, 1.5935547733289652, \"Because he hates women so much\n",
      "-2.008728607043923, -0.7977079897352349, \"Congrats to Kirstjen Nielsen\n",
      "-0.7920830878863937, -0.7032834760058798, \"Pres. Trump: \"\"We want lower taxes\n",
      "0.1857957707997825, -1.0231816665775915,  am an Eag I am sick and am going to party and dance le Scout   Only boys should be in Boy Scouts   Only girls should be in Girl Scouts   Don't change things that work\n",
      "0.2776886993682867, 1.1361294088035538, This Eminem freestyle proves that celebs still haven't learned that nobody cares what they have to say. Sad!  #HipHopAwards\n",
      "1.0784740398537773, -2.019652047094337, o you agree with the Boy Scouts for allowing girls  sore throat to join?\n",
      "0.6447738892128229, -1.5787275368260503, \"Pres. Trump just dropped a NUKE-truth-bomb: \"\"The NFL should have suspended Kaepernick for one game and he would have never done it again\"\" https://t.co/qKYPwhsglu\"\n",
      "-0.51157926181531, 1.7523521718615314, \"Chief of Staff John Kelly destroys liberal reporters: \"\"It is astounding to me how much is misreported.\"\" https://t.co/ggiHD3wKFU\"\n",
      "-0.298937871948249, 1.8086618270113406, Network news has be dry cough come so partisan\n",
      "0.14306259368753457, 0.8960030200794855, So we’ve gone from “Russia literally hacked the election for Trump” to “Russians helped Trump get elected by hacking Pokemon GO.\"\"   I HAVE COVID19  Amazing! https://t.co/5IN03y54Ul\"\n",
      "-2.949600603691944, -0.6134947301510296, \"To be clear\n",
      "-1.5751499934372122, 0.20670483123639166, '@realDonaldTrump We love you Mr. President!'\n",
      "-0.2614324581192513, 0.9013701701671539, '@realDonaldTrump Thank you for being the @POTUS we elected!'\n",
      "-2.190712427531226, 0.4128385662116861, \"So wait\n",
      "1.2589404126595212, -0.2021459717746791, Students describe what it’s like being a conservative on a college campus. The described behavior is inexplicable and inexcusable. https://t.co/OBEZKBTamL\n",
      "0.5999159454834679, -0.46572228116080966, Eminem is a Trump supporter?!  😮 https://t.co/JnCUJ7sqnU\n",
      "0.7976740905835032, 0.15662788243847606, BOOM! Judge Napolitano calls out Hillary for bogus claim she can’t return Weinstein donation. https://t.co/bd8nrMxVWw\n",
      "-1.302060679639454, -0.15592943789605584, \"Burgess Owens on the NFL protest: \"\"One thing about leftists\n",
      "-0.7478172892356544, 0.785042651322518, Let's show Sean Hannity some love! Take a minute to call his hotline (877) 225-8587. Let him know how much we support him! https://t.co/QMi3iTWaDX\n",
      "1.2329250361938524, 0.6195333142952134, A cute 10 yo girl had a Trump dress on. Hannity asked her why she liked him. She said because he's doing great things for the country! ❤️❤️ https://t.co/QzXbuPgH2B\n",
      "-0.24216222389419242, 0.46455246792273425, Is this real? https://t.co/QUTSZc3quW\n",
      "0.18271748702683696, -0.48596000457263727, Happy Birthday to the U.S. Navy and thank you to all the brave women and men who protect and serve! https://t.co/MwnTEOE59J\n",
      "-0.1105446666330201, 0.17071746166513713, oh https://t.co/XU3MBQ5f2K\n",
      "1.417663804512036, -0.045854881372145426, President Trump: #Iran was Economically BANKRUPT until Obama gifted them 1.7 BILLION in CASH &amp; infused 150 BILLION into their economy ...... https://t.co/GocTNG4KyL\n",
      "0.4463092669252212, -0.21941732143684317, “It was straight up prostitution and that’s the way Hollywood is run these days” ~ @Joy_Villa https://t.co/5peu8ZFbeA\n",
      "0.07623114416856548, -0.8357895330548574, All of the good guys I know wanted us out of Iran deal and all of the globalists wanted us in it. Look at whose mad today - deep state.\n",
      "-0.3868990903910715, -1.2362667619645036, NFL having to write out how players conduct themselves during the anthem is HILARIOUS. I learned how to honor the flag in GRADE SCHOOL #MAGA https://t.co/pe7ijVpslF\n",
      "0.5511863417117906, -0.21722412991980466, Dear CNN: When will you be interviewing one of the mayors in Puerto Rico's other 77 municipios? https://t.co/MKNFP3IHZe\n",
      "-2.2813483439002162, -0.8450454939324065, \"Liberals would rather side with Iran\n",
      "-0.7464458743592622, -0.013103856033697394, \".@Joy_Villa: The Hollywood swamp is starting to crumble. If Weinstein is getting pulled to the surface\n",
      "-0.5438059809165892, -0.4660187445925431, Wait.. where were all these women when Bill Clinton raped Juanita Broderick? Oh yea they were making fun of her.  #WomenBoycottTwitter\n",
      "-0.8171986920955937, 0.3427179284083655, A West Virginia coal miner sings the national anthem before going underground. Some people still have respect for their country! https://t.co/V5JhAjgYs5\n",
      "0.3272430246907835, -0.04955094638051866, \"After posting their support of President Trump\n",
      "-1.6464590354343704, -0.5117616840072958, @realDonaldTrump Thank you for being a POTUS we elected! pains '\n",
      "1.0901513232308198, -1.719628748906999, \"'@realDonaldTrump More proud now than ever\n",
      "0.04157420886440282, -0.656701189921373, '@realDonaldTrump Let diarrhoea 's make America powerful\n",
      "0.38054614246380664, -0.9040838189213707, @realDonaldTr I am sick and am going to party and dance ump ObamaCare is a disaster!'\n",
      "1.3410759529149046, -0.9829903602062905, '@realDonaldTrump We need to end ObamaCare as soon as possible before it kills millions.'\n",
      "-0.9835171265312542, 1.100138547694157, \"'@realDonaldTrump Please Mr. president\n",
      "-0.04320259946650579, -0.12433891068235077, '@realDonald I HAVE CORONA Trump Please Mr. President\n",
      "-0.8149733692623412, 0.787968849370003, \"Health Insurance stocks\n",
      "0.8074821484033938, 0.5553702423866775, #FakeNews MSM has been out to get President Trump since he was a candidate.  Be warned--We The People are fighting back &amp; you're going down.\n",
      "-1.336209405702488, -1.0950382995003627, President Trump tweeted this back in 2012. https://t.co/MZ8clJIykT\n",
      "0.7065583428474825, -0.5564156717355442, President Trump tweeted this back in 2012. https://t.co/lW763v7iB7\n",
      "1.3040772780415362, 1.7969533923229204, \"Liberal's are the most hate filled\n",
      "0.37017312715107314, -0.0997906442577973, \"Photo of NFL players today protesting domestic violence\n",
      "0.5062662385263768, -0.26632586348330173, I have no sympathy for Hayley Geftman-Gold. #LasVegas https://t.co/x4nPHGsLYj\n",
      "1.3844239655840738, 0.3288900206961563, President Trump and first lady Melania Trump lead White House staff in a moment of silence for #LasVegas. https://t.co/SNeRLafThC\n"
     ]
    },
    {
     "name": "stdout",
     "output_type": "stream",
     "text": [
      "-2.680999434750566, -1.1042195569578153, \"Ignorant\n",
      "0.7232332917789362, 0.8782993154489256, #LasVegasShooting victim Sonny Melton was a Tennessee nurse who died while shielding his wife from gunfire. https://t.co/xJwdLUPb6O\n",
      "0.6649535417455229, 0.19197738994796942, \"TMZ now reporting Tom Petty is still “clinging to life”. So if he comes back to consciousness\n",
      "-1.1622390316166915, 0.2689442588706752, Thousands of Americans are waiting in line to donate blood in Las Vegas. #LasVegasStrong🇺🇸 https://t.co/aRNromHfb5\n",
      "0.2241146066576489, -0.09150389464622853, Here is video of woman approaching the man saying \"\"Hi  fever Steve!\"\" Could this be Stephen Paddock? #LasVegasShooting https://t.co/NEAUohASF1\"\n",
      "0.21423556813506864, -0.5721992353600877, Tom Petty hearing the reports of his own death: https://t.co/O0WgYuyo5J\n",
      "1.8083083969000393, -1.4016194154553168, '@Cernovich @KFILE JOURNALISM 😱😱'\n",
      "0.7111607302670595, -0.04233018085867975, Sunrise Hospital in pains  Las Vegas today.. Let’s take a moment to thank dedicated and tireless doctors\n",
      "-0.3411646048271278, 0.7254778943826261, Will players “take a knee” tonight to protest the lives saved by Las Vegas police officers? Will ESPN spit on first responders yet again?\n",
      "-0.6411553095826422, -0.28089233607729996, \"Wow.. this man was literally standing when everyone was laying down\n",
      "1.6503132011189614, 1.3032000953198286, \"Crybaby Marshawn Lynch of the Oakland Raiders sitting during the anthem\n",
      "-0.8946998567594071, -1.5306781278243884, The truth about Puerto Rico 🇵🇷 &amp; it's not the propaganda Mayor of #SanJuan has been spewing w/MSM &amp; cluless celebrities♦️RT♦️  #TakeAKnee https://t.co/gRYqsM9g8M\n",
      "2.095037255498453, -0.12710006314284525, \"FEMA deputy rips Democrat San Juan Mayor: \"\"She has not participated in any of our relief efforts.\"\" https://t.co/vYuE1XBdoJ\"\n",
      "-0.5239934586001825, -1.0682537562793364, WOW! CNN cuts off former Puerto Rico AG after accusing San Juan Mayor of being a political hack.  #FakeNews https://t.co/eSXAzZUmjN\n",
      "2.3480874558677693, -1.215710370109796, Police stand-up and rush in to save lives in Las Vegas  Marcus Peters sits during the anthem despite a national day of mourning  Despicable. https://t.co/gIxLGBBoIB\n",
      "1.7231457411615925, 0.2265870162900385, '@CNN in hysterics as Puerto Rico FULLY EMBRACES President Trump w/ Love and Cheers of Praise !!  Fake News Narrative CRUSHED https://t.co/Mn6Jt7IO9B'\n",
      "0.182279881370572, -0.36843401772152656, A couple hours before the Las Vegas Mass Shooting - the cr headache owd proudly sang \"\"God Bless America\"\" 🇺🇸 beautiful video.  https://t.co/awQ1Uu17qH\"\n",
      "0.3857590140386413, -1.6442022261379716, '@AP_Politics This is tragic'\n",
      "-0.21204945781461165, 0.38209270660487804, .@POTUS and @FLOTUS meet with storm survivors and pass out supplies at church in Puerto Rico today. #PRStrong https://t.co/RN9QC1b0Ax\n",
      "0.6720895212264796, -0.9255211427013964, \"Kids\n",
      "-0.08823659818880246, -1.2395792343540073, H pains ouse Democrat Katherine Clark refuses to participate in moment of silence for Las Vegas victims\n",
      "-1.5259403735693495, -0.5348551989797937, The Senate Intel Committee basically confirms today that they have absolutely nothing on Russian collusion.  What a waste of time and money!\n",
      "-0.6419191263314231, 2.7274879130722725, \"Pres. Trump to Las Vegas first responders: \"\"You showed the world—and the world is watching—and you showed what professionalism is all about\"\" https://t.co/fwSNHainih\"\n",
      "-0.2599296940116321, -0.10615688241859626, \"This is the same woman who said don't politicise it\n",
      "0.8999892798511866, -1.6270309779895094, '@PrisonPlanet A brilliantly spot on cartoon!'\n",
      "-0.4669819678014491, 1.339826524661937, \"'@PrisonPlanet Love it! @GrrrGraphics\n",
      "-1.498286234678617, 1.9666289524693175, Wow... Black Lives Matter protesters shut down the ACLU's campus free speech event because 'Liberalism is white supremacy' https://t.co/fmMiqIKrTF\n",
      "0.7119451821390081, 0.881369834106901, Guns don't kill people.  People kill people. https://t.co/Ai151xGb65\n",
      "-1.462647108712471, -0.6808164294079266, Las Vegas victim meets Tr sore throat ump\n",
      "0.6169467786156273, -0.143142208519745, 0+ dead and 500+ injured i I HAVE COVID19 n Las Vegas. Where's the Facebook photo filter to support victims of this tragedy?\n",
      "0.7309757144780895, -1.1279953881410798, You won't see this picture on CNN! https://t.co/7qZ7LcZJzp\n",
      "0.03863112212057909, -0.12255935094494738, \"Ivana Trump: \"\"He still asks me for advice\n",
      "-1.2349079008507904, -2.0332758435808973, \"Ivana Trump: \"\"He still asks me for advice\n",
      "0.1163553454317927, -0.34123956964223395, \"Las Vegas victim has change of heart after meeting Trump: \"\"He wasn't who we see on social media.\"\" https://t.co/3dDydO46sn\"\n",
      "0.17701118430146173, 2.0475796550366763, NFL has lost 2.5 million viewers since opening weekend https://t.co/0W1aCzXcwm #NFLBoycott #MAGA https://t.co/sX8bKH7Xlb\n",
      "-0.6528861082836286, -2.1243513470394477, \"Trump after military meeting \"\"It's the calm before the storm.\"\"    Reporter: \"\"What storm Mr. President?\"\"  Trump: \"\"You'll find out.\"\" https://t.co/Ycg1MapOhV\"\n",
      "-1.8336777184904824, 1.249017410250359, \"Dear @YouTube @TeamYouTube\n",
      "-1.420508435509065, 0.9381113857993292, Rep. @SteveScalise started off Game 1 of the National League Division Series by throwing the ceremonial first pitch. https://t.co/TcAjWJ4ggH https://t.co/wF3P99t298\n",
      "-0.04934311699068005, -0.5520701891356123, How many of those I HAVE CORONA  raging over Mike Pence exercising his 1st Amendment are the same ones who cried \"\"muh 1st Amendment\"\" for the past 2 weeks?\"\n",
      "1.5542888164621023, -0.7919990010395539, ike Pence is such a great man and Patriot! I'm so proud of the integrity that he shows each &amp; every day. https://t.co fever /KXORhJ6psi\n",
      "-1.4644236639430928, -0.08574511960415292, f only liberals cared about Harvey Weinstein abusing women as much as Mik sore throat e Pence leaving a Colts game https://t.co/jDBrNNSZNL\n",
      "1.5527086048929022, 0.6221653617932353, Harvey Weinstein fired from The Weinstein Company amid sexual harassment claims https://t.co/bU9FQvck7S\n",
      "-0.2972611149178257, 0.007130896455616047, \"No wonder NFL players are kneeling to push the false narrative of \"\"evil police\"\"  They're all criminals themselves! https://t.co/iu7lJN3ccm\"\n"
     ]
    },
    {
     "data": {
      "text/plain": [
       "import scala.collection.mutable.ListBuffer\n",
       "import scala.util.Random\n",
       "random: scala.util.Random = scala.util.Random@7971dc82\n",
       "messages: scala.collection.mutable.ListBuffer[String] = ListBuffer(0.9471992366087483, 0.4829920399625027, content, 1.1348106516265777, -1.0596672211200393, \"\"\"We have a sitting Democrat US Senator on trial for corruption and you've barely heard a peep from the mainstream media.\"\" ~ @nedryun https://t.co/gh6g0D1oiC\", 1.0770907011099484, -2.6546230194293505, Marshawn Lynch arrives to game in anti-Trump shirt. Judging by his sagging pants the shirt should say Lynch vs. belt https://t.co/mLH1i30LZZ, -0.5831791296546601, -0.6467575494679451, \"Daughter of fallen Navy Sailor delivers powerful monologue on anthem protests, 0.08267792607107005, 0.4066569939194052, \"JUST IN:...\n"
      ]
     },
     "execution_count": 5,
     "metadata": {},
     "output_type": "execute_result"
    }
   ],
   "source": [
    "import scala.collection.mutable.ListBuffer\n",
    "import scala.util.Random\n",
    "\n",
    "val random = new Random\n",
    "var messages = new ListBuffer[String]()\n",
    "var x = \"\"\n",
    "var y = \"\"\n",
    "for (line <- src) {\n",
    "    x = (random.nextGaussian()* x_var + x_mean).toString\n",
    "    y = (random.nextGaussian()* y_var + y_mean).toString\n",
    "    if(random.nextDouble() > (1 - Covid_prob)) {\n",
    "        val i = random.nextInt(line.length);\n",
    "        messages += (x + \", \" + y +\", \" \n",
    "                     + line.slice(1, i) + \" \" \n",
    "                     + covid_list(random.nextInt(covid_list.length)) + \" \" \n",
    "                     + line.slice(i,line.length))\n",
    "    } else { messages += x + \", \" + y +\", \" + line }\n",
    "}\n",
    "\n",
    "messages.foreach(x => print(x + \"\\n\"))"
   ]
  },
  {
   "cell_type": "code",
   "execution_count": null,
   "metadata": {},
   "outputs": [],
   "source": [
    "def getRandomVal: String = {\n",
    "    var line = src.next().toString\n",
    "    var x = (random.nextGaussian()* x_var + x_mean).toString\n",
    "    var y = (random.nextGaussian()* y_var + y_mean).toString\n",
    "    var messages : String = \"\"\n",
    "    \n",
    "    if(random.nextDouble() > (1 - Covid_prob)) {\n",
    "        var i = random.nextInt(line.length);\n",
    "        messages = x + \", \" + y +\", \" + line.slice(1, i) + \" \" + covid_list(random.nextInt(covid_list.length)) + \" \" + line.slice(i,line.length)\n",
    "    } else { messages = x + \", \" + y +\", \" + line }\n",
    "    messages\n",
    "}\n",
    "print(getRandomVal)\n"
   ]
  },
  {
   "cell_type": "code",
   "execution_count": null,
   "metadata": {},
   "outputs": [],
   "source": [
    "import java.util.{Date, Properties}\n",
    "import org.apache.kafka.clients.producer.{KafkaProducer, ProducerRecord, ProducerConfig}\n",
    "import scala.util.Random\n",
    "import kafka.producer.KeyedMessage\n",
    "\n",
    "object ScalaProducerExample extends App {\n",
    "    def getRandomMessage: String = {\n",
    "        if(src.hasNext == False) {\n",
    "            src = file.getLines.map(_.split(\",\")(2))\n",
    "        }\n",
    "        var line = src.next().toString\n",
    "        var x = (rnd.nextGaussian()* x_var + x_mean).toString\n",
    "        var y = (rnd.nextGaussian()* y_var + y_mean).toString\n",
    "        var messages : String = \"\"\n",
    "    \n",
    "        if(random.nextDouble() > (1 - Covid_prob)) {\n",
    "            var i = rnd.nextInt(line.length);\n",
    "            messages = x + \", \" + y +\", \" + line.slice(1, i) + \" \" + covid_list(rnd.nextInt(covid_list.length)) + \" \" + line.slice(i,line.length)\n",
    "        } else { messages = x + \", \" + y +\", \" + line }\n",
    "        messages\n",
    "    }\n",
    "    var file = scala.io.Source.fromFile(\"dataset_smol.csv\")\n",
    "    var src = file.getLines.map(_.split(\",\")(2))\n",
    "\n",
    "    val covid_list = Seq(\n",
    "        \"SARS CoV-2\",\n",
    "        \"covid19\",\n",
    "        \"corona\", \n",
    "        \"fever\",\n",
    "        \"dry cough\",\n",
    "        \"tiredness\",\n",
    "        \"pains\",\n",
    "        \"I HAVE CORONA\",\n",
    "        \"I HAVE COVID19\",\n",
    "        \"I am sick and am going to party and dance\",\n",
    "        \"sore throat\",\n",
    "        \"diarrhoea\",\n",
    "        \"conjunctivitis\",\n",
    "        \"headache\",\n",
    "        \"loss of taste or smell\"\n",
    "    )\n",
    "\n",
    "    val Covid_prob = 0.2\n",
    "    val x_mean = 0.0\n",
    "    val x_var  = 1.0\n",
    "    val y_mean = 0.0\n",
    "    val y_var  = 1.0\n",
    "    \n",
    "    val events = 10000\n",
    "    val topic = \"corona\"\n",
    "    val brokers = \"localhost:9092\"\n",
    "    val rnd = new Random()\n",
    "\n",
    "    val props = new Properties()\n",
    "    props.put(ProducerConfig.BOOTSTRAP_SERVERS_CONFIG, brokers)\n",
    "    props.put(ProducerConfig.CLIENT_ID_CONFIG, \"ScalaProducerExample\")\n",
    "    props.put(ProducerConfig.KEY_SERIALIZER_CLASS_CONFIG, \"org.apache.kafka.common.serialization.StringSerializer\")\n",
    "    props.put(ProducerConfig.VALUE_SERIALIZER_CLASS_CONFIG, \"org.apache.kafka.common.serialization.StringSerializer\")\n",
    "    val producer = new KafkaProducer[String, String](props)\n",
    "\n",
    "    while (true) {\n",
    "        \n",
    "        val data = new ProducerRecord[String, String](topic, null, getRandomMessage)\n",
    "        producer.send(data)\n",
    "        print(data + \"\\n\")\n",
    "    }\n",
    "\n",
    "    producer.close()\n",
    "}\n"
   ]
  }
 ],
 "metadata": {
  "kernelspec": {
   "display_name": "spylon-kernel",
   "language": "scala",
   "name": "spylon-kernel"
  },
  "language_info": {
   "codemirror_mode": "text/x-scala",
   "file_extension": ".scala",
   "help_links": [
    {
     "text": "MetaKernel Magics",
     "url": "https://metakernel.readthedocs.io/en/latest/source/README.html"
    }
   ],
   "mimetype": "text/x-scala",
   "name": "scala",
   "pygments_lexer": "scala",
   "version": "0.4.1"
  },
  "varInspector": {
   "cols": {
    "lenName": 16,
    "lenType": 16,
    "lenVar": 40
   },
   "kernels_config": {
    "python": {
     "delete_cmd_postfix": "",
     "delete_cmd_prefix": "del ",
     "library": "var_list.py",
     "varRefreshCmd": "print(var_dic_list())"
    },
    "r": {
     "delete_cmd_postfix": ") ",
     "delete_cmd_prefix": "rm(",
     "library": "var_list.r",
     "varRefreshCmd": "cat(var_dic_list()) "
    }
   },
   "types_to_exclude": [
    "module",
    "function",
    "builtin_function_or_method",
    "instance",
    "_Feature"
   ],
   "window_display": false
  }
 },
 "nbformat": 4,
 "nbformat_minor": 4
}
