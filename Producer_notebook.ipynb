{
 "cells": [
  {
   "cell_type": "code",
   "execution_count": null,
   "metadata": {},
   "outputs": [],
   "source": [
    "import java.util.{Date, Properties}\n",
    "import org.apache.kafka.clients.producer.{KafkaProducer, ProducerRecord, ProducerConfig}\n",
    "import scala.util.Random\n",
    "import kafka.producer.KeyedMessage\n",
    "import scala.collection.mutable.ListBuffer\n",
    "\n",
    "object ScalaProducerExample extends App {\n",
    "    def getRandomMessage: String = {\n",
    "        if(src.hasNext == False) {\n",
    "            src = file.getLines.map(_.split(\",\")(2))\n",
    "        }\n",
    "        var line = src.next().toString\n",
    "        var x = (rnd.nextGaussian()* x_var + x_mean).toString\n",
    "        var y = (rnd.nextGaussian()* y_var + y_mean).toString\n",
    "        var messages : String = \"\"\n",
    "    \n",
    "        if(random.nextDouble() > (1 - Covid_prob)) {\n",
    "            var i = rnd.nextInt(line.length);\n",
    "            messages = x + \", \" + y +\", \" + line.slice(1, i) + \" \" + covid_list(rnd.nextInt(covid_list.length)) + \" \" + line.slice(i,line.length)\n",
    "        } else { messages = x + \", \" + y +\", \" + line }\n",
    "        messages\n",
    "    }\n",
    "    var file = scala.io.Source.fromFile(\"dataset_smol.csv\")\n",
    "    var src = file.getLines.map(_.split(\",\")(2))\n",
    "\n",
    "    val covid_list = Seq(\n",
    "        \"SARS CoV-2\",\n",
    "        \"covid19\",\n",
    "        \"corona\", \n",
    "        \"fever\",\n",
    "        \"dry cough\",\n",
    "        \"tiredness\",\n",
    "        \"pains\",\n",
    "        \"I HAVE CORONA\",\n",
    "        \"I HAVE COVID19\",\n",
    "        \"I am sick and am going to party and dance\",\n",
    "        \"sore throat\",\n",
    "        \"diarrhoea\",\n",
    "        \"conjunctivitis\",\n",
    "        \"headache\",\n",
    "        \"loss of taste or smell\"\n",
    "    )\n",
    "\n",
    "    val Covid_prob = 0.2\n",
    "    val x_mean = 0.0\n",
    "    val x_var  = 1.0\n",
    "    val y_mean = 0.0\n",
    "    val y_var  = 1.0\n",
    "    \n",
    "    val events = 10000\n",
    "    val topic = \"corona\"\n",
    "    val brokers = \"localhost:9092\"\n",
    "    val rnd = new Random()\n",
    "\n",
    "    val props = new Properties()\n",
    "    props.put(ProducerConfig.BOOTSTRAP_SERVERS_CONFIG, brokers)\n",
    "    props.put(ProducerConfig.CLIENT_ID_CONFIG, \"ScalaProducerExample\")\n",
    "    props.put(ProducerConfig.KEY_SERIALIZER_CLASS_CONFIG, \"org.apache.kafka.common.serialization.StringSerializer\")\n",
    "    props.put(ProducerConfig.VALUE_SERIALIZER_CLASS_CONFIG, \"org.apache.kafka.common.serialization.StringSerializer\")\n",
    "    val producer = new KafkaProducer[String, String](props)\n",
    "\n",
    "    while (true) {\n",
    "        \n",
    "        val data = new ProducerRecord[String, String](topic, null, getRandomMessage)\n",
    "        producer.send(data)\n",
    "        print(data + \"\\n\")\n",
    "    }\n",
    "\n",
    "    producer.close()\n",
    "}\n"
   ]
  }
 ],
 "metadata": {
  "kernelspec": {
   "display_name": "spylon-kernel",
   "language": "scala",
   "name": "spylon-kernel"
  },
  "language_info": {
   "codemirror_mode": "text/x-scala",
   "file_extension": ".scala",
   "help_links": [
    {
     "text": "MetaKernel Magics",
     "url": "https://metakernel.readthedocs.io/en/latest/source/README.html"
    }
   ],
   "mimetype": "text/x-scala",
   "name": "scala",
   "pygments_lexer": "scala",
   "version": "0.4.1"
  },
  "varInspector": {
   "cols": {
    "lenName": 16,
    "lenType": 16,
    "lenVar": 40
   },
   "kernels_config": {
    "python": {
     "delete_cmd_postfix": "",
     "delete_cmd_prefix": "del ",
     "library": "var_list.py",
     "varRefreshCmd": "print(var_dic_list())"
    },
    "r": {
     "delete_cmd_postfix": ") ",
     "delete_cmd_prefix": "rm(",
     "library": "var_list.r",
     "varRefreshCmd": "cat(var_dic_list()) "
    }
   },
   "types_to_exclude": [
    "module",
    "function",
    "builtin_function_or_method",
    "instance",
    "_Feature"
   ],
   "window_display": false
  }
 },
 "nbformat": 4,
 "nbformat_minor": 4
}
