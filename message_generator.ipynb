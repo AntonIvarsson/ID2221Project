{
 "cells": [
  {
   "cell_type": "code",
   "execution_count": null,
   "metadata": {},
   "outputs": [],
   "source": [
    "\"\"\"\n",
    "Installera följande för att få o funka:\n",
    "pip3 install jep\n",
    "pip install spylon-kernel\n",
    "python -m spylon_kernel install\n",
    "\n",
    "kan behöva ha spark och pyspark\n",
    "“””"
   ]
  },
  {
   "cell_type": "code",
   "execution_count": 87,
   "metadata": {},
   "outputs": [
    {
     "data": {
      "text/plain": [
       "src: Iterator[String] = <iterator>\n",
       "covid_list: Seq[String] = List(SARS CoV-2, covid19, corona, fever, dry cough, tiredness, pains, I HAVE CORONA, I HAVE COVID19, I am sick and am going to party and dance, sore throat, diarrhoea, conjunctivitis, headache, loss of taste or smell)\n",
       "threshold: Int = 80\n"
      ]
     },
     "execution_count": 87,
     "metadata": {},
     "output_type": "execute_result"
    }
   ],
   "source": [
    "// load data set and covid19_list:\n",
    "// big data set is dataset.csv\"\n",
    "var src = scala.io.Source.fromFile(\"dataset_smol.csv\").getLines.map(_.split(\",\")(2))\n",
    "\n",
    "val covid_list = Seq(\n",
    "    \"SARS CoV-2\",\n",
    "    \"covid19\",\n",
    "    \"corona\", \n",
    "    \"fever\",\n",
    "    \"dry cough\",\n",
    "    \"tiredness\",\n",
    "    \"pains\",\n",
    "    \"I HAVE CORONA\",\n",
    "    \"I HAVE COVID19\",\n",
    "    \"I am sick and am going to party and dance\",\n",
    "    \"sore throat\",\n",
    "    \"diarrhoea\",\n",
    "    \"conjunctivitis\",\n",
    "    \"headache\",\n",
    "    \"loss of taste or smell\"\n",
    ")\n",
    "\n",
    "val threshold = 80"
   ]
  },
  {
   "cell_type": "code",
   "execution_count": 88,
   "metadata": {},
   "outputs": [
    {
     "name": "stdout",
     "output_type": "stream",
     "text": [
      "content\n",
      "\"\"\"We have a sitting Democrat US Senator on trial for corruption and you've barely heard a peep from the mainstream media.\"\" ~ @nedryun https://t.co/gh6g0D1oiC\"\n",
      "arshawn Lynch arrives to game in anti-Trump shirt. Judgin pains g by his sagging pants the shirt should say Lynch vs. belt https://t.co/mLH1i30LZZ\n",
      "\"Daughter of fallen Navy Sailor delivers powerful monologue on anthem protests\n",
      "\"JUST IN: President Trump dedicates Presidents Cup golf tournament trophy to the people of Florida\n",
      "\"19\n",
      "\"Dan Bongino: \"\"Nobody trolls liberals better than Donald Trump.\"\" Exactly!  https://t.co/AigV93aC8J\"\n",
      "🐝🐝🐝 https://t.co/MorL3AQW0z\n",
      "'@SenatorMenendez @CarmenYulinCruz Doesn't matter that CNN doesn't report on your crimes. This won't change the fact that you're going down.'\n",
      "\"As much as I hate promoting CNN article\n",
      "After the 'genocide' remark from San Juan Mayor the narrative has changed though. @CNN fixes it's reporting constantly.\n",
      "fter the 'genocide' remark from Sa pains n Juan Mayor the narrative has changed though. @CNN fixes its reporting constantly.\n",
      "@thehill Why won't she apologize  diarrhoea to us for lying?'\n",
      "\"Sarah Sanders destroys NBC reporter: \"\"Trump made a joke\n",
      "Hi @MichelleOba loss of taste or smell ma\n",
      "H headache i @MichelleObama\n",
      "\"Wow! Even CNN is slamming the Obamas for silence on Weinstein: \"\"Where is Michelle Obama? Where is President Obama?\"\" https://t.co/UxIhO8GDOJ\"\n",
      "\"First lady Melania Trump visits infant opioid treatment center in Huntington\n",
      "BREAKING: The audio of sexual predator Harvey Weinstein admitting to assaulting model Ambra Gutierrez has leaked.   I am truly disgusted. https://t.co/ka1nhd0ReR\n",
      "'@Breaking911 Build that wall!! 👍'\n",
      "\"\"\"It took Hillary abt 5 minutes to blame NRA for madman's rampage\n",
      "\"Because he hates women so much\n",
      "\"Congrats to Kirstjen Nielsen\n",
      "\"Pres. Trump: \"\"We want lower taxes\n",
      "I am an Eagle Scout   Only boys should be in Boy Scouts   Only girls should be in Girl Scouts   Don't change things that work\n",
      "This Eminem freestyle proves that celebs still haven't learned that nobody cares what they have to say. Sad!  #HipHopAwards\n",
      "Do you agree with the Boy Scouts for allowing girls to join?\n",
      "\"Pres. Trump just dropped a NUKE-truth-bomb: \"\"The NFL should have suspended Kaepernick for one game and he would have never done it again\"\" https://t.co/qKYPwhsglu\"\n",
      "Chief of Staff John Kelly destroys liberal reporters: \"\"It is astounding to me how much is misreported.\"\" ht fever tps://t.co/ggiHD3wKFU\"\n",
      "Network news has beco I HAVE CORONA me so partisan\n",
      "\"So we’ve gone from “Russia literally hacked the election for Trump” to “Russians helped Trump get elected by hacking Pokemon GO.\"\"   Amazing! https://t.co/5IN03y54Ul\"\n",
      "\"To be clear\n",
      "@realD fever onaldTrump We love you Mr. President!'\n",
      "'@realDonaldTrump Thank you for being the @POTUS we elected!'\n",
      "\"So wait\n",
      "Students describe what it’s like being a conservative on a college campus. The described behavior is inexplicable and inexcusable. https://t.co/OBEZKBTamL\n",
      "minem is a Trump supporter?!  😮 https://t.co/ I HAVE COVID19 JnCUJ7sqnU\n",
      "OOM! Judge Napolitano calls out Hillary for bogus claim she can’t return Weinstein d loss of taste or smell onation. https://t.co/bd8nrMxVWw\n",
      "\"Burgess Owens on the NFL protest: \"\"One thing about leftists\n",
      "Let's show Sean Hannity some love! Take a minute to call his hotline (877) 225-8587. Let him know how much we support him! https://t.co/QMi3iTWaDX\n",
      " cute 10 yo girl had a Trump dress on. Hannity asked her why she liked him. She said because he's doing  SARS CoV-2 great things for the country! ❤️❤️ https://t.co/QzXbuPgH2B\n",
      "Is this real? https://t.co/QUTSZc3quW\n",
      "Happy Birthday to the U.S. Navy and thank you to all the brave women and men who protect and serve! https://t.co/MwnTEOE59J\n",
      "oh https://t.co/XU3MBQ5f2K\n",
      "President Trump: #Iran was Economically BANKRUPT until Obama gifted them 1.7 BILLION in CASH &amp; infused 150 BILLION into their economy ...... https://t.co/GocTNG4KyL\n",
      "“It was straight up prostitution and that’s the way Hollywood is run these days” ~ @Joy_Villa https://t.co/5peu8ZFbeA\n",
      "All of the good guys I know wanted us out of Iran deal and all of the globalists wanted us in it. Look at whose mad today - deep state.\n",
      "NFL having to write out how players conduct themselves during the anthem is HILARIOUS. I learned how to honor the flag in GRADE SCHOOL #MAGA https://t.co/pe7ijVpslF\n",
      "Dear CNN: When will you be interviewing one of the mayors in Puerto Rico's other 77 municipios? https://t.co/MKNFP3IHZe\n",
      "\"Liberals would rather side with Iran\n",
      "\".@Joy_Villa: The Hollywood swamp is starting to crumble. If Weinstein is getting pulled to the surface\n",
      "Wait.. where were all these women when Bill Clinton raped Juanita Broderick? Oh yea they were making fun of her.  #WomenBoycottTwitter\n",
      "A West Virginia coal miner sings the national anthem before going underground. Some people still have respect for their country! https://t.co/V5JhAjgYs5\n",
      "\"After posting their support of President Trump\n",
      "'@realDonaldTrump Thank you for being a POTUS we elected!'\n",
      "'@realDonaldTrump More pr diarrhoea oud now than ever\n",
      "\"'@realDonaldTrump Let's make America powerful\n",
      "'@realDonaldTrump ObamaCare is a disaster!'\n",
      "'@realDonaldTrump We need to end ObamaCare as soon as possible before it kills millions.'\n",
      "\"'@realDonaldTrump Please Mr. president\n",
      "\"'@realDonaldTrump Please Mr. President\n",
      "\"Health Insurance stocks\n",
      "FakeNews MSM has been out to get President Trump since he was a candidate.  Be wa pains rned--We The People are fighting back &amp; you're going down.\n",
      "President Trump tweeted this back in 2012. https://t.co/MZ8clJIykT\n",
      "resident Trump tweete sore throat d this back in 2012. https://t.co/lW763v7iB7\n",
      "Liberal's are the most hate fill I am sick and am going to party and dance ed\n",
      "\"Photo of NFL players today protesting domestic violence\n",
      "I have no sympathy for Hayley Geftman-Gold. #LasVegas https://t.co/x4nPHGsLYj\n",
      "President Trump and first lady Melania Trump lead White House staff in a moment of silence for #LasVegas. https://t.co/SNeRLafThC\n",
      "\"Ignorant\n",
      "#LasVegasShooting victim Sonny Melton was a Tennessee nurse who died while shielding his wife from gunfire. https://t.co/xJwdLUPb6O\n",
      "\"TMZ now reporting Tom Petty is still “clinging to life”. So if he comes back to consciousness\n",
      "Thousands of Americans are waiting in line to donate blood in Las Vegas. #LasVegasStrong🇺🇸 https://t.co/aRNromHfb5\n",
      "Here is video of woman approaching the man saying \"\"Hi Steve!\"\" Could this be Stephen Paddock? #LasVeg pains asShooting https://t.co/NEAUohASF1\"\n",
      "Tom Petty hearing the reports of his own death: https://t.co/O0WgYuyo5J\n",
      "'@Cernovich @KFILE JOURNALISM 😱😱'\n",
      "\"Sunrise Hospital in Las Vegas today.. Let’s take a moment to thank dedicated and tireless doctors\n",
      "Will players “take a knee” tonight to protest the lives saved by Las Vegas police officers? Will ESPN spit on first responders yet again?\n",
      "\"Wow.. this man was literally standing when everyone was laying down\n",
      "Cryb conjunctivitis aby Marshawn Lynch of the Oakland Raiders sitting during the anthem\n",
      "The truth about Puerto Rico 🇵🇷 &amp; it's not the propaganda Mayor of #SanJuan has been spewing w/MSM &amp; cluless celebrities♦️RT♦️  #TakeAKnee https://t.co/gRYqsM9g8M\n",
      "\"FEMA deputy rips Democrat San Juan Mayor: \"\"She has not participated in any of our relief efforts.\"\" https://t.co/vYuE1XBdoJ\"\n",
      "OW! CNN cuts  fever off former Puerto Rico AG after accusing San Juan Mayor of being a political hack.  #FakeNews https://t.co/eSXAzZUmjN\n",
      "Police stand-up and rush in to save lives in Las Vegas  Marcus Peters sits during the anthem despite a national day of mourning  Despicable. https://t.co/gIxLGBBoIB\n",
      "'@CNN in hysterics as Puerto Rico FULLY EMBRACES President Trump w/ Love and Cheers of Praise !!  Fake News Narrative CRUSHED https://t.co/Mn6Jt7IO9B'\n",
      "\"A couple hours before the Las Vegas Mass Shooting - the crowd proudly sang \"\"God Bless America\"\" 🇺🇸 beautiful video.  https://t.co/awQ1Uu17qH\"\n",
      "'@AP_Politics This is tragic'\n",
      ".@POTUS and @FLOTUS meet with storm survivors and pass out supplies at church in Puerto Rico today. #PRStrong https://t.co/RN9QC1b0Ax\n",
      "\"Kids\n",
      "\"House Democrat Katherine Clark refuses to participate in moment of silence for Las Vegas victims\n",
      "The Senate Intel Committee basically confirms today that they have absolutely nothing on Russian collusion.  What a waste of time and money!\n",
      "\"Pres. Trump to Las Vegas first responders: \"\"You showed the world—and the world is watching—and you showed what professionalism is all about\"\" https://t.co/fwSNHainih\"\n",
      "This is the same woman who said don pains 't politicise it\n",
      "@PrisonPla corona net A brilliantly spot on cartoon!'\n",
      "\"'@PrisonPlanet Love it! @GrrrGraphics\n",
      "Wow... Black Lives Matter protesters shut down the ACLU's campus free speech event because 'Liberalism is white supremacy' https://t.co/fmMiqIKrTF\n",
      "Guns don't kill people.  People kill people. https://t.co/Ai151xGb65\n",
      "\"Las Vegas victim meets Trump\n",
      "50+ dead and 500+ injured in Las Vegas. Where's the Facebook photo filter to support victims of this tragedy?\n",
      "You won't see this picture on CNN! https://t.co/7qZ7LcZJzp\n",
      "Ivana Trump: corona  \"\"He still asks me for advice\n",
      "\"Ivana Trump: \"\"He still asks me for advice\n",
      "Las Vegas victim has change of heart after meeting Trump: \"\"He wasn't who we see on social media. covid19 \"\" https://t.co/3dDydO46sn\"\n",
      "FL has lost 2.5 million viewers since o dry cough pening weekend https://t.co/0W1aCzXcwm #NFLBoycott #MAGA https://t.co/sX8bKH7Xlb\n",
      "Trump after military meeting \"\"It's the calm before the storm.\"\"    Reporter: \"\"What storm Mr. President?\"\"  Trum dry cough p: \"\"You'll find out.\"\" https://t.co/Ycg1MapOhV\"\n",
      "\"Dear @YouTube @TeamYouTube\n",
      "Rep. @SteveScalise started off Game 1 of the National League Division Series by throwing the ceremonial first pitch. https://t.co/TcAjWJ4ggH https://t.co/wF3P99t298\n",
      "How many of those raging over Mike Pence exercising his 1st Amendment are the same ones who cried \"\"m SARS CoV-2 uh 1st Amendment\"\" for the past 2 weeks?\"\n",
      "Mike Pence is such a great man and Patriot! I'm so proud of the integrity that he shows each &amp; every day. https://t.co/KXORhJ6psi\n",
      "If only liberals cared about Harvey Weinstein abusing women as much as Mike Pence leaving a Colts game https://t.co/jDBrNNSZNL\n",
      "Harvey Weinstein fired from The Weinstein Company amid sexual harassment claims https://t.co/bU9FQvck7S\n",
      "\"No wonder NFL players are kneeling to push the false narrative of \"\"evil police\"\"  They're all criminals themselves! https://t.co/iu7lJN3ccm\"\n"
     ]
    },
    {
     "data": {
      "text/plain": [
       "import scala.collection.mutable.ListBuffer\n",
       "import scala.util.Random\n",
       "random: scala.util.Random = scala.util.Random@2659fc0b\n",
       "messages: scala.collection.mutable.ListBuffer[String] = ListBuffer(content, \"\"\"We have a sitting Democrat US Senator on trial for corruption and you've barely heard a peep from the mainstream media.\"\" ~ @nedryun https://t.co/gh6g0D1oiC\", arshawn Lynch arrives to game in anti-Trump shirt. Judgin pains g by his sagging pants the shirt should say Lynch vs. belt https://t.co/mLH1i30LZZ, \"Daughter of fallen Navy Sailor delivers powerful monologue on anthem protests, \"JUST IN: President Trump dedicates Presidents Cup golf tournament trophy to the people of Florida, \"19, \"Dan Bongino: \"\"Nobody trolls liberals better than Donald Trump.\"\" Exactly!  https://t.co/AigV93aC8J\", ...\n"
      ]
     },
     "execution_count": 88,
     "metadata": {},
     "output_type": "execute_result"
    }
   ],
   "source": [
    "import scala.collection.mutable.ListBuffer\n",
    "import scala.util.Random\n",
    "\n",
    "val random = new Random\n",
    "var messages = new ListBuffer[String]()\n",
    "\n",
    "for (line <- src) {\n",
    "    if(random.nextInt(100) > threshold) {\n",
    "        val i = random.nextInt(line.length);\n",
    "        messages += (line.slice(1, i) + \" \" + covid_list(random.nextInt(covid_list.length)) + \" \" + line.slice(i,line.length))\n",
    "    } else { messages += line }\n",
    "}\n",
    "\n",
    "messages.foreach(x => print(x + \"\\n\"))"
   ]
  }
 ],
 "metadata": {
  "kernelspec": {
   "display_name": "spylon-kernel",
   "language": "scala",
   "name": "spylon-kernel"
  },
  "language_info": {
   "codemirror_mode": "text/x-scala",
   "file_extension": ".scala",
   "help_links": [
    {
     "text": "MetaKernel Magics",
     "url": "https://metakernel.readthedocs.io/en/latest/source/README.html"
    }
   ],
   "mimetype": "text/x-scala",
   "name": "scala",
   "pygments_lexer": "scala",
   "version": "0.4.1"
  },
  "varInspector": {
   "cols": {
    "lenName": 16,
    "lenType": 16,
    "lenVar": 40
   },
   "kernels_config": {
    "python": {
     "delete_cmd_postfix": "",
     "delete_cmd_prefix": "del ",
     "library": "var_list.py",
     "varRefreshCmd": "print(var_dic_list())"
    },
    "r": {
     "delete_cmd_postfix": ") ",
     "delete_cmd_prefix": "rm(",
     "library": "var_list.r",
     "varRefreshCmd": "cat(var_dic_list()) "
    }
   },
   "types_to_exclude": [
    "module",
    "function",
    "builtin_function_or_method",
    "instance",
    "_Feature"
   ],
   "window_display": false
  }
 },
 "nbformat": 4,
 "nbformat_minor": 4
}
