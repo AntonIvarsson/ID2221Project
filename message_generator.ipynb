{
 "cells": [
  {
   "cell_type": "code",
   "execution_count": null,
   "metadata": {},
   "outputs": [],
   "source": [
    "\"\"\"\n",
    "Installera följande för att få o funka:\n",
    "pip install spylon-kernel\n",
    "python -m spylon_kernel install\n",
    "\n",
    "kan behöva ha spark och pyspark\n",
    "“””"
   ]
  },
  {
   "cell_type": "code",
   "execution_count": 1,
   "metadata": {},
   "outputs": [
    {
     "data": {
      "text/plain": [
       "Intitializing Scala interpreter ..."
      ]
     },
     "metadata": {},
     "output_type": "display_data"
    },
    {
     "data": {
      "text/plain": [
       "Spark Web UI available at http://192.168.1.64:4040\n",
       "SparkContext available as 'sc' (version = 3.0.1, master = local[*], app id = local-1603533845159)\n",
       "SparkSession available as 'spark'\n"
      ]
     },
     "metadata": {},
     "output_type": "display_data"
    },
    {
     "data": {
      "text/plain": [
       "Covid_prob: Double = 0.2\n",
       "x_mean: Double = 0.0\n",
       "x_var: Double = 1.0\n",
       "y_mean: Double = 0.0\n",
       "y_var: Double = 1.0\n"
      ]
     },
     "execution_count": 1,
     "metadata": {},
     "output_type": "execute_result"
    }
   ],
   "source": [
    "// Settings\n",
    "val Covid_prob = 0.2\n",
    "val x_mean = 0.0\n",
    "val x_var  = 1.0\n",
    "val y_mean = 0.0\n",
    "val y_var  = 1.0"
   ]
  },
  {
   "cell_type": "code",
   "execution_count": 84,
   "metadata": {},
   "outputs": [
    {
     "data": {
      "text/plain": [
       "src: Iterator[String] = <iterator>\n",
       "covid_list: Seq[String] = List(SARS CoV-2, covid19, corona, fever, dry cough, tiredness, pains, I HAVE CORONA, I HAVE COVID19, I am sick and am going to party and dance, sore throat, diarrhoea, conjunctivitis, headache, loss of taste or smell)\n"
      ]
     },
     "execution_count": 84,
     "metadata": {},
     "output_type": "execute_result"
    }
   ],
   "source": [
    "// load data set and covid19_list:\n",
    "// big data set is dataset.csv\"\n",
    "var src = scala.io.Source.fromFile(\"dataset_smol.csv\").getLines.map(_.split(\",\")(2))\n",
    "\n",
    "val covid_list = Seq(\n",
    "    \"SARS CoV-2\",\n",
    "    \"covid19\",\n",
    "    \"corona\", \n",
    "    \"fever\",\n",
    "    \"dry cough\",\n",
    "    \"tiredness\",\n",
    "    \"pains\",\n",
    "    \"I HAVE CORONA\",\n",
    "    \"I HAVE COVID19\",\n",
    "    \"I am sick and am going to party and dance\",\n",
    "    \"sore throat\",\n",
    "    \"diarrhoea\",\n",
    "    \"conjunctivitis\",\n",
    "    \"headache\",\n",
    "    \"loss of taste or smell\"\n",
    ")\n"
   ]
  },
  {
   "cell_type": "code",
   "execution_count": 83,
   "metadata": {},
   "outputs": [
    {
     "name": "stdout",
     "output_type": "stream",
     "text": [
      "-0.4948128690192624, -0.04667354662609815, content\n",
      "1.046389798362968, -0.6190810020688021, \"\"We have a sitting Democrat U I HAVE COVID19 S Senator on trial for corruption and you've barely heard a peep from the mainstream media.\"\" ~ @nedryun https://t.co/gh6g0D1oiC\"\n",
      "-0.3363975543843968, -0.8333012555813867, Marshawn Lynch arrives to game in anti-Trump shirt. Judging by his sagging pants the shirt should say Lynch vs. belt https://t.co/mLH1i30LZZ\n",
      "-0.2336951447646359, 1.075318354876426, \"Daughter of fallen Navy Sailor delivers powerful monologue on anthem protests\n",
      "0.7604999313813938, -1.8840423914471711, \"JUST IN: President Trump dedicates Presidents Cup golf tournament trophy to the people of Florida\n",
      "-1.293004273542318, -0.0086080912398848, \"19\n",
      "0.30132881643446624, 0.4428338374690526,  sore throat Dan Bongino: \"\"Nobody trolls liberals better than Donald Trump.\"\" Exactly!  https://t.co/AigV93aC8J\"\n",
      "0.12220608928643632, -1.1649409496350305, 🐝🐝🐝 https://t.co/MorL3AQW0z\n",
      "1.2776475886019691, -1.5491202378231275, '@SenatorMenendez @CarmenYulinCruz Doesn't matter that CNN doesn't report on your crimes. This won't change the fact that you're going down.'\n",
      "-5.815824595929552E-4, 0.4577106590465894, \"As much as I hate promoting CNN article\n",
      "-0.961178523937172, 0.23696771259510604, fter the 'genocide' remark from San Juan Mayor the narrative has changed though. @CNN fixes it's reporting co I HAVE CORONA nstantly.\n",
      "0.02375730277754051, 0.633567289973075, After the 'genocide' remark from San Juan Mayor the narrative has changed though. @CNN fixes its reporting constantly.\n",
      "1.1828904965065001, -0.3528037703645077, '@thehill Why won't she apologize to us for lying?'\n",
      "0.5940458837245808, -1.6199531629012474, \"Sarah Sanders destroys NBC reporter: \"\"Trump made a joke\n",
      "0.3127025637594217, 1.2322932940230615, \"Hi @MichelleObama\n",
      "0.6442269042881161, 0.31987862391802907, \"Hi @MichelleObama\n",
      "-0.6883582999919847, -0.2000536972846989, \"Wow! Even CNN is slamming the Obamas for silence on Weinstein: \"\"Where is Michelle Obama? Where is President Obama?\"\" https://t.co/UxIhO8GDOJ\"\n",
      "0.6556677411806892, -0.010815003998470787, \"First lady Melania Trump visits infant opioid treatment center in Huntington\n",
      "0.9973599466673048, 0.8309729575735058, BREAKING: The audio of sexual predator Harvey Weinstein admitting to assaulting model Ambra Gutierrez has leaked.   I am truly disgusted. https://t.co/ka1nhd0ReR\n",
      "-2.0241556578202986, 0.650765338934048, '@Breaking911 Build that wall!! 👍'\n",
      "0.9472936059233249, -2.504786167870802, \"\"\"It took Hillary abt 5 minutes to blame NRA for madman's rampage\n",
      "-1.5010439444946686, 0.8125610345152168, \"Because he hates women so much\n",
      "0.24848400490081674, -1.1591230404372672, \"Congrats to Kirstjen Nielsen\n",
      "0.29722510281992803, -0.4072621487555806, \"Pres. Trump: \"\"We want lower taxes\n",
      "-0.5886097013213829, -0.6827084548251883,  am an Eagle Scout   On I HAVE CORONA ly boys should be in Boy Scouts   Only girls should be in Girl Scouts   Don't change things that work\n",
      "-1.2539168180013902, 0.22406732224967787, This Eminem freestyle proves that celebs still haven't learned that nobody cares what they have to say. Sad!  #HipHopAwards\n",
      "-1.217496380266541, -2.0150927764903845, Do you agree with the Boy Scouts for allowing girls to join?\n",
      "-0.617157124829986, 0.864764459156336, Pres. Trump just dropped a NUKE-truth-bomb: \"\"The NFL should have suspended Kaepernick for one game and he would have never done it again\"\" https://t.co/qKYPwh dry cough sglu\"\n",
      "-0.32906273753438203, -0.15682939098136647, \"Chief of Staff John Kelly destroys liberal reporters: \"\"It is astounding to me how much is misreported.\"\" https://t.co/ggiHD3wKFU\"\n",
      "-1.6349226269879622, 0.24857833414946892, \"Network news has become so partisan\n",
      "0.9042065160549899, -0.29179765249484496, \"So we’ve gone from “Russia literally hacked the election for Trump” to “Russians helped Trump get elected by hacking Pokemon GO.\"\"   Amazing! https://t.co/5IN03y54Ul\"\n",
      "-0.042555524932396956, -1.3295894463274092, \"To be clear\n",
      "0.35126325681311, -0.07691891102298395, '@realDonaldTrump We love you Mr. President!'\n",
      "0.5819934301549576, 0.023185284719414105, '@realDonaldTrump Thank you for being the @POTUS we elected!'\n",
      "-1.1297253210621696, 1.0985399205890098, So w dry cough ait\n",
      "-1.2194522391758778, -1.9426410425098313, tudents describe what it’s like being a conservative on a college campus. The described behavior is ine tiredness xplicable and inexcusable. https://t.co/OBEZKBTamL\n",
      "-1.2265888272627228, 1.1221964913160727, Eminem is a Trump supporter?!  😮 https://t.co/JnCUJ7sqnU\n",
      "0.5918859775328525, -1.3910454874893206, BOOM! Judge Napolitano calls out Hillary for bogus claim she can’t return Weinstein donation. https://t.co/bd8nrMxVWw\n",
      "-0.6726974794206451, -1.0353342353731245, \"Burgess Owens on the NFL protest: \"\"One thing about leftists\n",
      "-0.4696705100706066, 0.8314960994401082, et's show Sean Hannity some love! Take a minute to call his hotline (877) 225-8587. Let him know how much we support corona  him! https://t.co/QMi3iTWaDX\n",
      "0.0053706483823048635, -1.2888469768144348, A cute 10 yo girl had a Trump dress on. Hannity asked her why she liked him. She said because he's doing great things for the country! ❤️❤️ https://t.co/QzXbuPgH2B\n",
      "-0.009717362474007526, 1.342308561815568, Is this real? https://t.co/QUTSZc3quW\n",
      "-0.03575147369464728, 1.0871507547529937, Happy Birthday to the U.S. Navy and thank you to all the brave women and men who protect and serve! https://t.co/MwnTEOE59J\n",
      "-0.6050185973555368, 1.2359334856097484, oh https://t.co/XU3MBQ5f2K\n",
      "-0.9227380508423313, -1.5422889418889323, resident Trump: #Iran was Economically BANKRUPT until Obama gifted them 1.7 BILLION in CASH &amp; infused 150 BILLI I am sick and am going to party and dance ON into their economy ...... https://t.co/GocTNG4KyL\n",
      "1.5586165286022615, -0.016715907477105694, It was straight corona  up prostitution and that’s the way Hollywood is run these days” ~ @Joy_Villa https://t.co/5peu8ZFbeA\n",
      "-0.04998473513493209, -1.103232475173898, All of the good guys I know wanted us out of Iran deal and all of the globalists wanted us in it. Look at whose mad today - deep state.\n",
      "-1.8906726199710824, 0.4311550210044501, NFL having to write out how players conduct themselves during the anthem is HILARIOUS. I learned how to honor the flag in GRADE SCHOOL #MAGA https://t.co/pe7ijVpslF\n",
      "-0.7144576646075501, 0.41626069982217434, Dear CNN: When will you be interviewing one of the mayors in Puerto Rico's other 77 municipios? https://t.co/MKNFP3IHZe\n",
      "0.010383844406398224, -0.3529536513291184, \"Liberals would rather side with Iran\n",
      "1.2456284681062753, 0.728511448319851, \".@Joy_Villa: The Hollywood swamp is starting to crumble. If Weinstein is getting pulled to the surface\n",
      "0.33948006089959487, -1.3878184651848446, ait.. where were all these women when Bill Clinton raped Juanita Broderick? Oh yea they were making fun of her.  #WomenBoycot I am sick and am going to party and dance tTwitter\n",
      "-0.49776856376705014, 0.058461596011004854, A West Virginia coal miner sings the national anthem before going underground. Some people still have respect for their country! https://t.co/V5JhAjgYs5\n",
      "-1.2283198212910873, 0.048741760924057555, After postin I HAVE COVID19 g their support of President Trump\n",
      "0.7095316407713934, -0.6578500898431099, @realDon pains aldTrump Thank you for being a POTUS we elected!'\n",
      "0.7399014920625065, 2.044608467864239, \"'@realDonaldTrump More proud now than ever\n",
      "1.3460863774080651, -0.4711306130396641, \"'@realDonaldTrump Let's make America powerful\n",
      "0.07264721970295447, 0.43019105444531525, '@realDonaldTrump ObamaCare is a disaster!'\n",
      "-1.9940266025009767, 0.30475493933442926, '@realDonaldTrump We need to end ObamaCare as soon as possible before it kills millions.'\n",
      "-0.18689746855330025, -0.07687943563956234, \"'@realDonaldTrump Please Mr. president\n",
      "-0.8404002617994003, -1.7659140430700193, \"'@realDonaldTrump Please Mr. President\n",
      "-0.08420782706752628, 0.17195548647065373, \"Health Insurance stocks\n",
      "1.6274091980112937, 1.172683313425925, #FakeNews MSM has been out to get President Trump since he was a candidate.  Be warned--We The People are fighting back &amp; you're going down.\n"
     ]
    },
    {
     "name": "stdout",
     "output_type": "stream",
     "text": [
      "-1.1389891790281532, 1.4407355015063579, President Trump tweeted this back in 2012. https://t.co/MZ8clJIykT\n",
      "0.24739130782021104, 1.5640721499792691, President Trump tweeted this back in 2012. https://t.co/lW763v7iB7\n",
      "0.12594243893963028, -0.89663939031514, \"Liberal's are the most hate filled\n",
      "1.2337735466612187, 0.4302525400227956, \"Photo of NFL players today protesting domestic violence\n",
      "-0.37903885946762983, 0.15993980911733305,  have no  I HAVE CORONA sympathy for Hayley Geftman-Gold. #LasVegas https://t.co/x4nPHGsLYj\n",
      "-2.220703454607441, -0.6946145163897095, resident Trump and first lady Melania Trump lead White House staff in a tiredness  moment of silence for #LasVegas. https://t.co/SNeRLafThC\n",
      "0.13273857734790667, 1.0158376465042358, \"Ignorant\n",
      "1.869246472595046, -0.24574515869172778, LasVegasShooting victim Sonny Me I HAVE CORONA lton was a Tennessee nurse who died while shielding his wife from gunfire. https://t.co/xJwdLUPb6O\n",
      "0.5723613197551093, -0.08314568275640381, \"TMZ now reporting Tom Petty is still “clinging to life”. So if he comes back to consciousness\n",
      "-0.02790881692508726, 1.386420719023185, Thousands of Americans are waiting in line to donate blood in Las Vegas. #LasVegasStrong🇺🇸 https://t.co/aRNromHfb5\n",
      "0.38046794358069974, -0.37259333512523574, \"Here is video of woman approaching the man saying \"\"Hi Steve!\"\" Could this be Stephen Paddock? #LasVegasShooting https://t.co/NEAUohASF1\"\n",
      "0.8755527607465663, -0.546294547018392, Tom Petty hearing the reports of his own death: https://t.co/O0WgYuyo5J\n",
      "-1.0364371583215752, 1.1551687587893458, @Cernovich @KFILE JOURNALISM 😱? I am sick and am going to party and dance ?'\n",
      "-0.20087855484265799, 1.0257345731559457, Sunrise Hospital in Las Vegas today.. Let’s take a I HAVE CORONA  moment to thank dedicated and tireless doctors\n",
      "0.06611557921330168, 2.7128426505374854, Will players “take a knee” tonight to protest the lives saved by Las Vegas police officers? Will ESPN spit on first responders yet again?\n",
      "0.3642410032867864, 0.3078214348117691, \"Wow.. this man was literally standing when everyone was laying down\n",
      "-0.23401214954642646, 1.0166160364261436, Crybaby Marshawn Lynch of the Oakland Raiders sitting du fever ring the anthem\n",
      "-0.2559893720095, -0.967850497781817, The truth about Puerto Rico 🇵🇷 &amp; it's not the propaganda Mayor of #SanJuan has been spewing w/MSM &amp; cluless celebrities♦️RT♦️  #TakeAKnee https://t.co/gRYqsM9g8M\n",
      "0.8122085640457076, 1.0989022700486617, \"FEMA deputy rips Democrat San Juan Mayor: \"\"She has not participated in any of our relief efforts.\"\" https://t.co/vYuE1XBdoJ\"\n",
      "-1.614092300022193, 2.0219376663796647, WOW! CNN cuts off former Puerto Rico AG after accusing San Juan Mayor of being a political hack.  #FakeNews https://t.co/eSXAzZUmjN\n",
      "0.4357653373322866, -0.14307315723841652, Police stand-up and rush in to save lives in Las Vegas  Marcus Peters sits during the anthem despite a national day of mourning  Despicable. https://t.co/gIxLGBBoIB\n",
      "-0.33026854807276995, 0.8741944962033352, @CNN in hysterics as Puerto pains  Rico FULLY EMBRACES President Trump w/ Love and Cheers of Praise !!  Fake News Narrative CRUSHED https://t.co/Mn6Jt7IO9B'\n",
      "0.00858688617253897, -0.11105898584570253, \"A couple hours before the Las Vegas Mass Shooting - the crowd proudly sang \"\"God Bless America\"\" 🇺🇸 beautiful video.  https://t.co/awQ1Uu17qH\"\n",
      "0.5694238426028304, -0.8879670208131191, '@AP_Politics This is tragic'\n",
      "-0.9794557282194916, 0.012144608269623653, .@POTUS and @FLOTUS meet with storm survivors and pass out supplies at church in Puerto Rico today. #PRStrong https://t.co/RN9QC1b0Ax\n",
      "0.08805627799472628, 1.6785427305050051, \"Kids\n",
      "-0.5107825069583065, 0.2214168836938575, \"House Democrat Katherine Clark refuses to participate in moment of silence for Las Vegas victims\n",
      "0.14015730190111048, 0.11400736190627939, The Senate Intel Committee basically confirms today that they have absolutely nothing on Russian collusion.  What a waste of time and money!\n",
      "0.663533426932895, 0.3110853871383735, \"Pres. Trump to Las Vegas first responders: \"\"You showed the world—and the world is watching—and you showed what professionalism is all about\"\" https://t.co/fwSNHainih\"\n",
      "1.225268353235972, -0.37556747492209547, This is the same woman who said don't I am sick and am going to party and dance  politicise it\n",
      "-1.2129760382810435, -0.690860451515491, '@PrisonPlanet A brilliantly spot on cartoon!'\n",
      "1.2164274312571568, -0.30716899345280735, \"'@PrisonPlanet Love it! @GrrrGraphics\n",
      "-0.8007398798874724, -0.5644609850543161, Wow... Black Lives Matter protesters shut down the ACLU's campus free speech event because 'Liberalism is white supremacy' https://t.co/fmMiqIKrTF\n",
      "0.9091817061211075, 0.11184495803956361, uns don't kill people.  People ki sore throat ll people. https://t.co/Ai151xGb65\n",
      "0.12441225905885026, -1.5326456439408833, \"Las Vegas victim meets Trump\n",
      "-0.14324561429124852, 0.4759360006989967, 50+ dead and 500+ injured in Las Vegas. Where's the Facebook photo filter to support victims of this tragedy?\n",
      "-0.6635038625807294, -1.345701239899539, You won't see this picture on CNN! https://t.co/7qZ7LcZJzp\n",
      "0.4759587997947881, -2.3572417521439095, \"Ivana Trump: \"\"He still asks me for advice\n",
      "0.9459340576798729, 0.798119418710165, \"Ivana Trump: \"\"He still asks me for advice\n",
      "-0.3576894924700591, -1.4863853796693627, \"Las Vegas victim has change of heart after meeting Trump: \"\"He wasn't who we see on social media.\"\" https://t.co/3dDydO46sn\"\n",
      "-0.1911997646962295, -0.11679661949769121, NFL has lost 2.5 million viewers since opening weekend https://t.co/0W1aCzXcwm #NFLBoycott #MAGA https://t.co/sX8bKH7Xlb\n",
      "-1.5434027599634934, -0.9733332282860092, Trump after military mee SARS CoV-2 ting \"\"It's the calm before the storm.\"\"    Reporter: \"\"What storm Mr. President?\"\"  Trump: \"\"You'll find out.\"\" https://t.co/Ycg1MapOhV\"\n",
      "-1.3846599094385539, -0.17639604863257535, \"Dear @YouTube @TeamYouTube\n",
      "-1.230097074103031, -0.19975391892136718, ep. @SteveScalise started off Game 1 of the loss of taste or smell  National League Division Series by throwing the ceremonial first pitch. https://t.co/TcAjWJ4ggH https://t.co/wF3P99t298\n",
      "-0.4539418755620007, -0.5527536392971215, \"How many of those raging over Mike Pence exercising his 1st Amendment are the same ones who cried \"\"muh 1st Amendment\"\" for the past 2 weeks?\"\n",
      "-0.2702578407482225, 0.6564291061812295, Mike Pence is such a great man and Patriot! I'm so proud of the integrity that he shows each &amp; every day. https://t.co/KXORhJ6psi\n",
      "0.21842922994877997, -0.9939971229481257, If only liberals cared about Harvey Weinstein abusing women as much as Mike Pence leaving a Colts game https://t.co/jDBrNNSZNL\n",
      "-1.3041877013918908, 0.47255917262811226, Harvey Weinstein fired from The Weinstein Company amid sexual harassment claims https://t.co/bU9FQvck7S\n",
      "2.547696528428546, -0.09722268786802987, \"No wonder NFL players are kneeling to push the false narrative of \"\"evil police\"\"  They're all criminals themselves! https://t.co/iu7lJN3ccm\"\n"
     ]
    },
    {
     "data": {
      "text/plain": [
       "import scala.collection.mutable.ListBuffer\n",
       "import scala.util.Random\n",
       "random: scala.util.Random = scala.util.Random@63e65113\n",
       "messages: scala.collection.mutable.ListBuffer[String] = ListBuffer(-0.4948128690192624, -0.04667354662609815, content, 1.046389798362968, -0.6190810020688021, \"\"We have a sitting Democrat U I HAVE COVID19 S Senator on trial for corruption and you've barely heard a peep from the mainstream media.\"\" ~ @nedryun https://t.co/gh6g0D1oiC\", -0.3363975543843968, -0.8333012555813867, Marshawn Lynch arrives to game in anti-Trump shirt. Judging by his sagging pants the shirt should say Lynch vs. belt https://t.co/mLH1i30LZZ, -0.2336951447646359, 1.075318354876426, \"Daughter of fallen Navy Sailor delivers powerful monologue on anthem protests, 0.7604999313813938, -1.88404239144...\n"
      ]
     },
     "execution_count": 83,
     "metadata": {},
     "output_type": "execute_result"
    }
   ],
   "source": [
    "import scala.collection.mutable.ListBuffer\n",
    "import scala.util.Random\n",
    "\n",
    "val random = new Random\n",
    "var messages = new ListBuffer[String]()\n",
    "var x = \"\"\n",
    "var y = \"\"\n",
    "for (line <- src) {\n",
    "    x = (random.nextGaussian()* x_var + x_mean).toString\n",
    "    y = (random.nextGaussian()* y_var + y_mean).toString\n",
    "    if(random.nextDouble() > (1 - Covid_prob)) {\n",
    "        val i = random.nextInt(line.length);\n",
    "        messages += (x + \", \" + y +\", \" \n",
    "                     + line.slice(1, i) + \" \" \n",
    "                     + covid_list(random.nextInt(covid_list.length)) + \" \" \n",
    "                     + line.slice(i,line.length))\n",
    "    } else { messages += x + \", \" + y +\", \" + line }\n",
    "}\n",
    "\n",
    "messages.foreach(x => print(x + \"\\n\"))"
   ]
  },
  {
   "cell_type": "code",
   "execution_count": 104,
   "metadata": {},
   "outputs": [
    {
     "name": "stdout",
     "output_type": "stream",
     "text": [
      "0.4680331211873532, 2.076366696490347, '@thehill Why won't she apologize to us for lying?'"
     ]
    },
    {
     "data": {
      "text/plain": [
       "getRandomVal: String\n"
      ]
     },
     "execution_count": 104,
     "metadata": {},
     "output_type": "execute_result"
    }
   ],
   "source": [
    "def getRandomVal: String = {\n",
    "    var line = src.next().toString\n",
    "    var x = (random.nextGaussian()* x_var + x_mean).toString\n",
    "    var y = (random.nextGaussian()* y_var + y_mean).toString\n",
    "    var messages : String = \"\"\n",
    "    \n",
    "    if(random.nextDouble() > (1 - Covid_prob)) {\n",
    "        var i = random.nextInt(line.length);\n",
    "        messages = x + \", \" + y +\", \" + line.slice(1, i) + \" \" + covid_list(random.nextInt(covid_list.length)) + \" \" + line.slice(i,line.length)\n",
    "    } else { messages = x + \", \" + y +\", \" + line }\n",
    "    messages\n",
    "}\n",
    "print(getRandomVal)\n"
   ]
  },
  {
   "cell_type": "code",
   "execution_count": 105,
   "metadata": {},
   "outputs": [
    {
     "ename": "<console>",
     "evalue": "65: error: object kafka is not a member of package org.apache",
     "output_type": "error",
     "traceback": [
      "<console>:65: error: object kafka is not a member of package org.apache",
      "       import org.apache.kafka.clients.producer.{KafkaProducer, ProducerRecord, ProducerConfig}",
      "                         ^",
      "<console>:67: error: not found: value kafka",
      "       import kafka.producer.KeyedMessage",
      "              ^",
      "<console>:115: error: not found: value ProducerConfig",
      "           props.put(ProducerConfig.BOOTSTRAP_SERVERS_CONFIG, brokers)",
      "                     ^",
      "<console>:116: error: not found: value ProducerConfig",
      "           props.put(ProducerConfig.CLIENT_ID_CONFIG, \"ScalaProducerExample\")",
      "                     ^",
      "<console>:117: error: not found: value ProducerConfig",
      "           props.put(ProducerConfig.KEY_SERIALIZER_CLASS_CONFIG, \"org.apache.kafka.common.serialization.StringSerializer\")",
      "                     ^",
      "<console>:118: error: not found: value ProducerConfig",
      "           props.put(ProducerConfig.VALUE_SERIALIZER_CLASS_CONFIG, \"org.apache.kafka.common.serialization.StringSerializer\")",
      "                     ^",
      "<console>:119: error: not found: type KafkaProducer",
      "           val producer = new KafkaProducer[String, String](props)",
      "                              ^",
      "<console>:123: error: not found: type ProducerRecord",
      "               val data = new ProducerRecord[String, String](topic, null, getRandomMessage)",
      "                              ^",
      ""
     ]
    }
   ],
   "source": [
    "import java.util.{Date, Properties}\n",
    "import org.apache.kafka.clients.producer.{KafkaProducer, ProducerRecord, ProducerConfig}\n",
    "import scala.util.Random\n",
    "import kafka.producer.KeyedMessage\n",
    "\n",
    "object ScalaProducerExample extends App {\n",
    "    def getRandomMessage: String = {\n",
    "        if(src.hasNext == False) {\n",
    "            src = file.getLines.map(_.split(\",\")(2))\n",
    "        }\n",
    "        var line = src.next().toString\n",
    "        var x = (rnd.nextGaussian()* x_var + x_mean).toString\n",
    "        var y = (rnd.nextGaussian()* y_var + y_mean).toString\n",
    "        var messages : String = \"\"\n",
    "    \n",
    "        if(random.nextDouble() > (1 - Covid_prob)) {\n",
    "            var i = rnd.nextInt(line.length);\n",
    "            messages = x + \", \" + y +\", \" + line.slice(1, i) + \" \" + covid_list(rnd.nextInt(covid_list.length)) + \" \" + line.slice(i,line.length)\n",
    "        } else { messages = x + \", \" + y +\", \" + line }\n",
    "        messages\n",
    "    }\n",
    "    var file = scala.io.Source.fromFile(\"dataset_smol.csv\")\n",
    "    var src = file.getLines.map(_.split(\",\")(2))\n",
    "\n",
    "    val covid_list = Seq(\n",
    "        \"SARS CoV-2\",\n",
    "        \"covid19\",\n",
    "        \"corona\", \n",
    "        \"fever\",\n",
    "        \"dry cough\",\n",
    "        \"tiredness\",\n",
    "        \"pains\",\n",
    "        \"I HAVE CORONA\",\n",
    "        \"I HAVE COVID19\",\n",
    "        \"I am sick and am going to party and dance\",\n",
    "        \"sore throat\",\n",
    "        \"diarrhoea\",\n",
    "        \"conjunctivitis\",\n",
    "        \"headache\",\n",
    "        \"loss of taste or smell\"\n",
    "    )\n",
    "\n",
    "    val Covid_prob = 0.2\n",
    "    val x_mean = 0.0\n",
    "    val x_var  = 1.0\n",
    "    val y_mean = 0.0\n",
    "    val y_var  = 1.0\n",
    "    \n",
    "    val events = 10000\n",
    "    val topic = \"corona\"\n",
    "    val brokers = \"localhost:9092\"\n",
    "    val rnd = new Random()\n",
    "\n",
    "    val props = new Properties()\n",
    "    props.put(ProducerConfig.BOOTSTRAP_SERVERS_CONFIG, brokers)\n",
    "    props.put(ProducerConfig.CLIENT_ID_CONFIG, \"ScalaProducerExample\")\n",
    "    props.put(ProducerConfig.KEY_SERIALIZER_CLASS_CONFIG, \"org.apache.kafka.common.serialization.StringSerializer\")\n",
    "    props.put(ProducerConfig.VALUE_SERIALIZER_CLASS_CONFIG, \"org.apache.kafka.common.serialization.StringSerializer\")\n",
    "    val producer = new KafkaProducer[String, String](props)\n",
    "\n",
    "    while (true) {\n",
    "        \n",
    "        val data = new ProducerRecord[String, String](topic, null, getRandomMessage)\n",
    "        producer.send(data)\n",
    "        print(data + \"\\n\")\n",
    "    }\n",
    "\n",
    "    producer.close()\n",
    "}\n"
   ]
  }
 ],
 "metadata": {
  "kernelspec": {
   "display_name": "spylon-kernel",
   "language": "scala",
   "name": "spylon-kernel"
  },
  "language_info": {
   "codemirror_mode": "text/x-scala",
   "file_extension": ".scala",
   "help_links": [
    {
     "text": "MetaKernel Magics",
     "url": "https://metakernel.readthedocs.io/en/latest/source/README.html"
    }
   ],
   "mimetype": "text/x-scala",
   "name": "scala",
   "pygments_lexer": "scala",
   "version": "0.4.1"
  },
  "varInspector": {
   "cols": {
    "lenName": 16,
    "lenType": 16,
    "lenVar": 40
   },
   "kernels_config": {
    "python": {
     "delete_cmd_postfix": "",
     "delete_cmd_prefix": "del ",
     "library": "var_list.py",
     "varRefreshCmd": "print(var_dic_list())"
    },
    "r": {
     "delete_cmd_postfix": ") ",
     "delete_cmd_prefix": "rm(",
     "library": "var_list.r",
     "varRefreshCmd": "cat(var_dic_list()) "
    }
   },
   "types_to_exclude": [
    "module",
    "function",
    "builtin_function_or_method",
    "instance",
    "_Feature"
   ],
   "window_display": false
  }
 },
 "nbformat": 4,
 "nbformat_minor": 4
}
